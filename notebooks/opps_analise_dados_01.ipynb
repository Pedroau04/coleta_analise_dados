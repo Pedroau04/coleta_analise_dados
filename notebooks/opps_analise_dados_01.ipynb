{
  "nbformat": 4,
  "nbformat_minor": 0,
  "metadata": {
    "colab": {
      "provenance": [],
      "authorship_tag": "ABX9TyMJNru+/mJr78BWDtfqQEmc",
      "include_colab_link": true
    },
    "kernelspec": {
      "name": "python3",
      "display_name": "Python 3"
    },
    "language_info": {
      "name": "python"
    }
  },
  "cells": [
    {
      "cell_type": "markdown",
      "metadata": {
        "id": "view-in-github",
        "colab_type": "text"
      },
      "source": [
        "<a href=\"https://colab.research.google.com/github/Pedroau04/coleta_analise_dados/blob/main/notebooks/opps_analise_dados_01.ipynb\" target=\"_parent\"><img src=\"https://colab.research.google.com/assets/colab-badge.svg\" alt=\"Open In Colab\"/></a>"
      ]
    },
    {
      "cell_type": "markdown",
      "source": [
        "# Análise e visualização de dados"
      ],
      "metadata": {
        "id": "nbu44Hr6qMIu"
      }
    },
    {
      "cell_type": "code",
      "execution_count": 1,
      "metadata": {
        "colab": {
          "base_uri": "https://localhost:8080/"
        },
        "id": "QJlWulcsps-M",
        "outputId": "90301991-3bac-4dc1-8666-b30997628c90"
      },
      "outputs": [
        {
          "output_type": "stream",
          "name": "stdout",
          "text": [
            "olá pedro\n"
          ]
        }
      ],
      "source": [
        "print (\"olá pedro\")"
      ]
    }
  ]
}